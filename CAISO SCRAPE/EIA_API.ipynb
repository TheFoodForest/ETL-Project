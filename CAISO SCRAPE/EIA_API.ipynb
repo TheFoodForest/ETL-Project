{
 "cells": [
  {
   "cell_type": "markdown",
   "metadata": {},
   "source": [
    "# EIA Demand data via API"
   ]
  },
  {
   "cell_type": "code",
   "execution_count": 1,
   "metadata": {},
   "outputs": [],
   "source": [
    "import pandas as pd\n",
    "import requests\n",
    "import datetime\n",
    "import json\n",
    "\n",
    "from config import api_key"
   ]
  },
  {
   "cell_type": "markdown",
   "metadata": {},
   "source": [
    "### Extract"
   ]
  },
  {
   "cell_type": "code",
   "execution_count": 2,
   "metadata": {},
   "outputs": [],
   "source": [
    "# Use API to get demand dataset\n",
    "url = f'https://api.eia.gov/series/?api_key={api_key}&series_id=EBA.CISO-ALL.D.HL'\n",
    "response = requests.get(url)"
   ]
  },
  {
   "cell_type": "code",
   "execution_count": 69,
   "metadata": {},
   "outputs": [
    {
     "name": "stdout",
     "output_type": "stream",
     "text": [
      "39105 responses\n",
      "['20191218T09-08', 27494]\n",
      "['20150701T01-07', 31486]\n"
     ]
    }
   ],
   "source": [
    "# Review json for format\n",
    "response_json = response.json()\n",
    "# print(response_json)\n",
    "num_resp=len(response_json['series'][0]['data'])\n",
    "print(f'{num_resp} responses')\n",
    "print(response_json['series'][0]['data'][0])\n",
    "print(response_json['series'][0]['data'][-1])"
   ]
  },
  {
   "cell_type": "code",
   "execution_count": 5,
   "metadata": {},
   "outputs": [],
   "source": [
    "# Pull data for dataframe from nested dictionary\n",
    "dict = []\n",
    "for response in range(num_resp):\n",
    "    dict.append(response_json['series'][0]['data'][response])"
   ]
  },
  {
   "cell_type": "code",
   "execution_count": 53,
   "metadata": {},
   "outputs": [
    {
     "name": "stdout",
     "output_type": "stream",
     "text": [
      "                0        1\n",
      "0  20191218T09-08  27494.0\n",
      "1  20191218T08-08  27642.0\n",
      "2  20191218T07-08  26404.0\n",
      "3  20191218T06-08  23779.0\n",
      "4  20191218T05-08  22065.0\n",
      "                    0        1\n",
      "39100  20150701T05-07  25661.0\n",
      "39101  20150701T04-07  26388.0\n",
      "39102  20150701T03-07  27416.0\n",
      "39103  20150701T02-07  28989.0\n",
      "39104  20150701T01-07  31486.0\n"
     ]
    }
   ],
   "source": [
    "# Create datafame and check results\n",
    "df = pd.DataFrame(dict)\n",
    "print(df.head())\n",
    "print(df.tail())"
   ]
  },
  {
   "cell_type": "markdown",
   "metadata": {},
   "source": [
    "### Transform"
   ]
  },
  {
   "cell_type": "code",
   "execution_count": 83,
   "metadata": {
    "scrolled": true
   },
   "outputs": [
    {
     "data": {
      "text/html": [
       "<div>\n",
       "<style scoped>\n",
       "    .dataframe tbody tr th:only-of-type {\n",
       "        vertical-align: middle;\n",
       "    }\n",
       "\n",
       "    .dataframe tbody tr th {\n",
       "        vertical-align: top;\n",
       "    }\n",
       "\n",
       "    .dataframe thead th {\n",
       "        text-align: right;\n",
       "    }\n",
       "</style>\n",
       "<table border=\"1\" class=\"dataframe\">\n",
       "  <thead>\n",
       "    <tr style=\"text-align: right;\">\n",
       "      <th></th>\n",
       "      <th>timestamp</th>\n",
       "      <th>DEMAND</th>\n",
       "      <th>Hour</th>\n",
       "      <th>date</th>\n",
       "    </tr>\n",
       "  </thead>\n",
       "  <tbody>\n",
       "    <tr>\n",
       "      <td>0</td>\n",
       "      <td>2019-12-18 09:00:00</td>\n",
       "      <td>27494.0</td>\n",
       "      <td>9</td>\n",
       "      <td>2019-12-18</td>\n",
       "    </tr>\n",
       "    <tr>\n",
       "      <td>1</td>\n",
       "      <td>2019-12-18 08:00:00</td>\n",
       "      <td>27642.0</td>\n",
       "      <td>8</td>\n",
       "      <td>2019-12-18</td>\n",
       "    </tr>\n",
       "    <tr>\n",
       "      <td>2</td>\n",
       "      <td>2019-12-18 07:00:00</td>\n",
       "      <td>26404.0</td>\n",
       "      <td>7</td>\n",
       "      <td>2019-12-18</td>\n",
       "    </tr>\n",
       "    <tr>\n",
       "      <td>3</td>\n",
       "      <td>2019-12-18 06:00:00</td>\n",
       "      <td>23779.0</td>\n",
       "      <td>6</td>\n",
       "      <td>2019-12-18</td>\n",
       "    </tr>\n",
       "    <tr>\n",
       "      <td>4</td>\n",
       "      <td>2019-12-18 05:00:00</td>\n",
       "      <td>22065.0</td>\n",
       "      <td>5</td>\n",
       "      <td>2019-12-18</td>\n",
       "    </tr>\n",
       "    <tr>\n",
       "      <td>5</td>\n",
       "      <td>2019-12-18 04:00:00</td>\n",
       "      <td>21399.0</td>\n",
       "      <td>4</td>\n",
       "      <td>2019-12-18</td>\n",
       "    </tr>\n",
       "    <tr>\n",
       "      <td>6</td>\n",
       "      <td>2019-12-18 03:00:00</td>\n",
       "      <td>21413.0</td>\n",
       "      <td>3</td>\n",
       "      <td>2019-12-18</td>\n",
       "    </tr>\n",
       "    <tr>\n",
       "      <td>7</td>\n",
       "      <td>2019-12-18 02:00:00</td>\n",
       "      <td>21866.0</td>\n",
       "      <td>2</td>\n",
       "      <td>2019-12-18</td>\n",
       "    </tr>\n",
       "    <tr>\n",
       "      <td>8</td>\n",
       "      <td>2019-12-18 01:00:00</td>\n",
       "      <td>22741.0</td>\n",
       "      <td>1</td>\n",
       "      <td>2019-12-18</td>\n",
       "    </tr>\n",
       "    <tr>\n",
       "      <td>9</td>\n",
       "      <td>2019-12-18 00:00:00</td>\n",
       "      <td>24072.0</td>\n",
       "      <td>0</td>\n",
       "      <td>2019-12-18</td>\n",
       "    </tr>\n",
       "  </tbody>\n",
       "</table>\n",
       "</div>"
      ],
      "text/plain": [
       "            timestamp   DEMAND  Hour        date\n",
       "0 2019-12-18 09:00:00  27494.0     9  2019-12-18\n",
       "1 2019-12-18 08:00:00  27642.0     8  2019-12-18\n",
       "2 2019-12-18 07:00:00  26404.0     7  2019-12-18\n",
       "3 2019-12-18 06:00:00  23779.0     6  2019-12-18\n",
       "4 2019-12-18 05:00:00  22065.0     5  2019-12-18\n",
       "5 2019-12-18 04:00:00  21399.0     4  2019-12-18\n",
       "6 2019-12-18 03:00:00  21413.0     3  2019-12-18\n",
       "7 2019-12-18 02:00:00  21866.0     2  2019-12-18\n",
       "8 2019-12-18 01:00:00  22741.0     1  2019-12-18\n",
       "9 2019-12-18 00:00:00  24072.0     0  2019-12-18"
      ]
     },
     "execution_count": 83,
     "metadata": {},
     "output_type": "execute_result"
    }
   ],
   "source": [
    "# Rename columns\n",
    "demand_df = df.rename(columns={0:'timestamp', 1:'DEMAND'})\n",
    "# Clean up timestamp by removing end string (08,07)\n",
    "new = demand_df['timestamp'].str.split(\"-\", n = 1, expand = True) \n",
    "demand_df['timestamp']= new[0] \n",
    "demand_df['timestamp'] = pd.to_datetime(demand_df['timestamp'])\n",
    "\n",
    "# Splint datetimes as needed:\n",
    "# demand_df['Year'] = demand_df['Timestamp'].dt.year\n",
    "# demand_df['Month'] = demand_df['Timestamp'].dt.month\n",
    "# demand_df['Day'] = demand_df['Timestamp'].dt.day\n",
    "demand_df['Hour'] = demand_df['timestamp'].dt.hour # Hour 0 = midnight\n",
    "demand_df['date'] = demand_df['timestamp'].dt.date\n",
    "\n",
    "# There were duplicate listing for a handful of dates\n",
    "# Dropped so not to violate primary key rules\n",
    "demand_df.drop_duplicates(subset =\"timestamp\", \n",
    "                     keep = 'last', inplace = True) \n",
    "\n",
    "demand_df.head(10)"
   ]
  },
  {
   "cell_type": "code",
   "execution_count": 84,
   "metadata": {},
   "outputs": [],
   "source": [
    "# In case this is helpful\n",
    "demand_df.to_csv('eia_demand_data.csv')"
   ]
  },
  {
   "cell_type": "markdown",
   "metadata": {},
   "source": [
    "### Load"
   ]
  },
  {
   "cell_type": "code",
   "execution_count": 85,
   "metadata": {},
   "outputs": [],
   "source": [
    "from sqlalchemy import create_engine\n",
    "from config import username, password\n",
    "\n",
    "engine = create_engine('postgresql://{}:{}@localhost:5432/California_Energy_DB'.format(username,password))\n",
    "con = engine.connect()\n",
    "\n",
    "name_demand = \"hourlydemand\"\n",
    "schema = 'Demand'\n",
    "demand_df.to_sql(name=name_demand,con=con,schema=schema, if_exists='append',\n",
    "                            index=False)"
   ]
  }
 ],
 "metadata": {
  "kernelspec": {
   "display_name": "Python 3",
   "language": "python",
   "name": "python3"
  },
  "language_info": {
   "codemirror_mode": {
    "name": "ipython",
    "version": 3
   },
   "file_extension": ".py",
   "mimetype": "text/x-python",
   "name": "python",
   "nbconvert_exporter": "python",
   "pygments_lexer": "ipython3",
   "version": "3.7.3"
  }
 },
 "nbformat": 4,
 "nbformat_minor": 2
}
